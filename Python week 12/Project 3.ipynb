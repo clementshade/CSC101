{
 "cells": [
  {
   "cell_type": "markdown",
   "metadata": {},
   "source": [
    "# Eligible for Admission"
   ]
  },
  {
   "cell_type": "code",
   "execution_count": null,
   "metadata": {},
   "outputs": [],
   "source": [
    "#variables\n",
    "jamb_score = 0"
   ]
  },
  {
   "cell_type": "code",
   "execution_count": 7,
   "metadata": {},
   "outputs": [
    {
     "name": "stdout",
     "output_type": "stream",
     "text": [
      "PAU Admission Staus Checker\n",
      "What was your score in Jamb: 100\n",
      "How many Subjects do you have credits and above:  8\n",
      "Did Pass the PAU interview(yes/no)no\n",
      "Sorry, you do not meet the requirements\n"
     ]
    }
   ],
   "source": [
    "print(\"PAU Admission Staus Checker\")\n",
    "# jamb score\n",
    "jamb_score = int(input(\"What was your score in Jamb: \"))\n",
    "\n",
    "#credit\n",
    "C = int(input(\"How many Subjects do you have credits and above:  \"))\n",
    "\n",
    "# interview\n",
    "p =  str(input(\"Did Pass the PAU interview(yes/no)\"))\n",
    "if p.lower() == \"yes\":\n",
    "    interview = True\n",
    "else:\n",
    "    interview = False\n",
    "    \n",
    "if jamb_score >= 230 and C >= 5 and interview == True:\n",
    "    print(\"Congratulations you are eligible for admission\")\n",
    "else:\n",
    "    print(\"Sorry, you do not meet the requirements\")"
   ]
  },
  {
   "cell_type": "code",
   "execution_count": null,
   "metadata": {},
   "outputs": [],
   "source": []
  }
 ],
 "metadata": {
  "kernelspec": {
   "display_name": "Python 3",
   "language": "python",
   "name": "python3"
  },
  "language_info": {
   "codemirror_mode": {
    "name": "ipython",
    "version": 3
   },
   "file_extension": ".py",
   "mimetype": "text/x-python",
   "name": "python",
   "nbconvert_exporter": "python",
   "pygments_lexer": "ipython3",
   "version": "3.8.5"
  }
 },
 "nbformat": 4,
 "nbformat_minor": 4
}
