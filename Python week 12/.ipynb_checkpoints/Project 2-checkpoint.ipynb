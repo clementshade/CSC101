{
 "cells": [
  {
   "cell_type": "markdown",
   "metadata": {},
   "source": [
    "# Delivery Price calculator"
   ]
  },
  {
   "cell_type": "code",
   "execution_count": 28,
   "metadata": {},
   "outputs": [],
   "source": [
    "#variable\n",
    "price = 0"
   ]
  },
  {
   "cell_type": "code",
   "execution_count": 32,
   "metadata": {},
   "outputs": [
    {
     "name": "stdout",
     "output_type": "stream",
     "text": [
      "Welcome to PAU Delivery service\n",
      "Are you located in PAU or EPE: epe\n",
      "How heavy is your package(in kg): 2\n"
     ]
    }
   ],
   "source": [
    "\n",
    "print(\"Welcome to PAU Delivery service\")\n",
    "\n",
    "# User input\n",
    "LOC = (input(\"Are you located in PAU or EPE: \"))\n",
    "KG = int(input(\"How heavy is your package(in kg): \"))"
   ]
  },
  {
   "cell_type": "code",
   "execution_count": 33,
   "metadata": {},
   "outputs": [
    {
     "name": "stdout",
     "output_type": "stream",
     "text": [
      "4000\n"
     ]
    }
   ],
   "source": [
    "# Price calculator\n",
    "if LOC.lower() == \"pau\" and KG >= 10:\n",
    "    price = 2000\n",
    "\n",
    "elif LOC.lower() == \"pau\" and KG < 10:\n",
    "    price = 1500\n",
    "    \n",
    "elif LOC.lower() == \"epe\" and KG >= 10:\n",
    "    price = 5000\n",
    "    \n",
    "elif LOC.lower() == \"epe\" and KG < 10:\n",
    "    price = 4000\n",
    "\n",
    "print(price)\n"
   ]
  },
  {
   "cell_type": "code",
   "execution_count": null,
   "metadata": {},
   "outputs": [],
   "source": []
  }
 ],
 "metadata": {
  "kernelspec": {
   "display_name": "Python 3",
   "language": "python",
   "name": "python3"
  },
  "language_info": {
   "codemirror_mode": {
    "name": "ipython",
    "version": 3
   },
   "file_extension": ".py",
   "mimetype": "text/x-python",
   "name": "python",
   "nbconvert_exporter": "python",
   "pygments_lexer": "ipython3",
   "version": "3.8.5"
  }
 },
 "nbformat": 4,
 "nbformat_minor": 4
}
