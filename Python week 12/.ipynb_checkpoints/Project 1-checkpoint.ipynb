{
 "cells": [
  {
   "cell_type": "markdown",
   "metadata": {},
   "source": [
    "# user authentication"
   ]
  },
  {
   "cell_type": "code",
   "execution_count": 30,
   "metadata": {},
   "outputs": [],
   "source": [
    "# list of employee names\n",
    "employees = [\"jake\",\"king\",\"max\",\"jacob\",\"hero\",\"titan\",\"ray\",\"drake\",\"hiroshima\",\"ogun\",\"blake\",\"timothy\",\"john\",\"lisa\",\"david\"]"
   ]
  },
  {
   "cell_type": "code",
   "execution_count": 28,
   "metadata": {},
   "outputs": [
    {
     "name": "stdout",
     "output_type": "stream",
     "text": [
      "What is your name: cedk\n",
      "False\n",
      "You don't belong here, bye\n"
     ]
    }
   ],
   "source": [
    "# user input\n",
    "name = (input(\"What is your name: \"))\n",
    "\n",
    "# does the user exist\n",
    "print (name in employees)\n",
    "if name.lower() in employees:\n",
    "    print(\"Good day\",name,\". Your identity has been verified\")\n",
    "else:\n",
    "    print(\"You don't belong here, bye\")\n"
   ]
  },
  {
   "cell_type": "code",
   "execution_count": 32,
   "metadata": {},
   "outputs": [
    {
     "name": "stdout",
     "output_type": "stream",
     "text": [
      "What is your name: bye\n",
      "Get out\n"
     ]
    }
   ],
   "source": [
    "name = (input(\"What is your name: \"))\n",
    "\n",
    "for i in employees:\n",
    "    if name.lower() in employees:\n",
    "        ID = True\n",
    "    else:\n",
    "        ID = False\n",
    "if  ID == True:\n",
    "    print(\"welcome\")\n",
    "else:\n",
    "    print(\"Get out\")"
   ]
  }
 ],
 "metadata": {
  "kernelspec": {
   "display_name": "Python 3",
   "language": "python",
   "name": "python3"
  },
  "language_info": {
   "codemirror_mode": {
    "name": "ipython",
    "version": 3
   },
   "file_extension": ".py",
   "mimetype": "text/x-python",
   "name": "python",
   "nbconvert_exporter": "python",
   "pygments_lexer": "ipython3",
   "version": "3.8.5"
  }
 },
 "nbformat": 4,
 "nbformat_minor": 4
}
