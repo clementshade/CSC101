{
 "cells": [
  {
   "cell_type": "markdown",
   "metadata": {},
   "source": [
    "# Budget list"
   ]
  },
  {
   "cell_type": "code",
   "execution_count": 1,
   "metadata": {},
   "outputs": [],
   "source": [
    "import print"
   ]
  },
  {
   "cell_type": "code",
   "execution_count": 18,
   "metadata": {},
   "outputs": [],
   "source": [
    "# Variable\n",
    "x = True\n",
    "List = {}"
   ]
  },
  {
   "cell_type": "code",
   "execution_count": 19,
   "metadata": {},
   "outputs": [
    {
     "name": "stdout",
     "output_type": "stream",
     "text": [
      "welcome to Budget manager\n",
      "Enter any key to continue\n",
      "Buget manager is a quick and easy way to create list of items with there prices\n",
      "Enter any key to continue\n"
     ]
    },
    {
     "data": {
      "text/plain": [
       "''"
      ]
     },
     "execution_count": 19,
     "metadata": {},
     "output_type": "execute_result"
    }
   ],
   "source": [
    "# introduction\n",
    "print(\"welcome to Budget manager\")\n",
    "input(\"Enter any key to continue\")\n",
    "\n",
    "print(\"Buget manager is a quick and easy way to create list of items with there prices\")\n",
    "input(\"Enter any key to continue\")"
   ]
  },
  {
   "cell_type": "code",
   "execution_count": 21,
   "metadata": {},
   "outputs": [
    {
     "name": "stdout",
     "output_type": "stream",
     "text": [
      "{'apllw': 15}\n"
     ]
    }
   ],
   "source": [
    "# Entry loop\n",
    "while x == True:\n",
    "    S = input(\"press and key to continue or Type \\\"Exit\\\" to exit the program and view the list: \")   \n",
    "    \n",
    "    if S != \"Exit\":\n",
    "        A = str(input(\"Item name: \"))\n",
    "        B = int(input(\"Item price: \"))\n",
    "    \n",
    "        # Add items to list\n",
    "        List.update({A:B})\n",
    "    elif S == \"Exit\":\n",
    "        x = False\n",
    "        break\n",
    "    \n",
    "print(List)"
   ]
  },
  {
   "cell_type": "code",
   "execution_count": null,
   "metadata": {},
   "outputs": [],
   "source": []
  }
 ],
 "metadata": {
  "kernelspec": {
   "display_name": "Python 3",
   "language": "python",
   "name": "python3"
  },
  "language_info": {
   "codemirror_mode": {
    "name": "ipython",
    "version": 3
   },
   "file_extension": ".py",
   "mimetype": "text/x-python",
   "name": "python",
   "nbconvert_exporter": "python",
   "pygments_lexer": "ipython3",
   "version": "3.8.5"
  }
 },
 "nbformat": 4,
 "nbformat_minor": 4
}
