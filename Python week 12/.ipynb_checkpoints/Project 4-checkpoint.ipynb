{
 "cells": [
  {
   "cell_type": "markdown",
   "metadata": {},
   "source": [
    "# Budget list"
   ]
  },
  {
   "cell_type": "code",
   "execution_count": null,
   "metadata": {},
   "outputs": [],
   "source": [
    "# Variable\n",
    "x =True\n",
    "List = {}"
   ]
  },
  {
   "cell_type": "code",
   "execution_count": null,
   "metadata": {},
   "outputs": [],
   "source": [
    "# introduction\n",
    "print(\"welcome to Budget manager\")\n",
    "input(\"Enter any key to continue\")\n",
    "\n",
    "print(\"Buget manager is a quick and easy way to create list of items with there prices\")\n",
    "input(\"Enter any key to continue\")"
   ]
  },
  {
   "cell_type": "code",
   "execution_count": null,
   "metadata": {},
   "outputs": [
    {
     "name": "stdout",
     "output_type": "stream",
     "text": [
      "press and key to continue or Type \"Exit\" to exit the program and view the list: Exit\n"
     ]
    }
   ],
   "source": [
    "# Entry loop\n",
    "while x = True:\n",
    "    x += 1\n",
    "    S = input(\"press and key to continue or Type \\\"Exit\\\" to exit the program and view the list: \")   \n",
    "    A = str(input(\"Item number: \"))\n",
    "    B = str(input(\"Item name: \"))\n",
    "    \n",
    "    # Add items to list\n",
    "    List.update({A: B})\n",
    "    if S == \"Exit\":\n",
    "        break\n",
    "print (List)"
   ]
  },
  {
   "cell_type": "code",
   "execution_count": 8,
   "metadata": {},
   "outputs": [
    {
     "name": "stdout",
     "output_type": "stream",
     "text": [
      "['apple', 'banana', 'cherry', 'orange']\n"
     ]
    }
   ],
   "source": []
  },
  {
   "cell_type": "code",
   "execution_count": null,
   "metadata": {},
   "outputs": [],
   "source": []
  }
 ],
 "metadata": {
  "kernelspec": {
   "display_name": "Python 3",
   "language": "python",
   "name": "python3"
  },
  "language_info": {
   "codemirror_mode": {
    "name": "ipython",
    "version": 3
   },
   "file_extension": ".py",
   "mimetype": "text/x-python",
   "name": "python",
   "nbconvert_exporter": "python",
   "pygments_lexer": "ipython3",
   "version": "3.8.5"
  }
 },
 "nbformat": 4,
 "nbformat_minor": 4
}
