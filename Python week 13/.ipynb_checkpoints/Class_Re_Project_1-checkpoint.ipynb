{
 "cells": [
  {
   "cell_type": "code",
   "execution_count": 10,
   "metadata": {},
   "outputs": [],
   "source": [
    "# list of employee names\n",
    "employees = [\"jake\",\"king\",\"max\",\"jacob\",\"hero\",\"titan\",\"ray\",\"drake\",\"hiroshima\",\"ogun\",\"blake\",\"timothy\",\"john\",\"lisa\",\"david\"]"
   ]
  },
  {
   "cell_type": "code",
   "execution_count": 14,
   "metadata": {},
   "outputs": [
    {
     "name": "stdout",
     "output_type": "stream",
     "text": [
      "What is your name: \n",
      "You don't belong here, bye\n"
     ]
    }
   ],
   "source": [
    "Name = (input(\"What is your name: \"))\n",
    "\n",
    "def Check(name):\n",
    "    if name.lower() in employees:\n",
    "        print(\"Good day\",name,\". Your identity has been verified\")\n",
    "    else:\n",
    "        print(\"You don't belong here, bye\")\n",
    "    return\n",
    "\n",
    "Check( Name )"
   ]
  },
  {
   "cell_type": "code",
   "execution_count": 9,
   "metadata": {},
   "outputs": [
    {
     "data": {
      "text/plain": [
       "'sdfsikkhjfjosadoifosdfknfn'"
      ]
     },
     "execution_count": 9,
     "metadata": {},
     "output_type": "execute_result"
    }
   ],
   "source": []
  },
  {
   "cell_type": "code",
   "execution_count": null,
   "metadata": {},
   "outputs": [],
   "source": []
  }
 ],
 "metadata": {
  "kernelspec": {
   "display_name": "Python 3",
   "language": "python",
   "name": "python3"
  },
  "language_info": {
   "codemirror_mode": {
    "name": "ipython",
    "version": 3
   },
   "file_extension": ".py",
   "mimetype": "text/x-python",
   "name": "python",
   "nbconvert_exporter": "python",
   "pygments_lexer": "ipython3",
   "version": "3.8.5"
  }
 },
 "nbformat": 4,
 "nbformat_minor": 4
}
