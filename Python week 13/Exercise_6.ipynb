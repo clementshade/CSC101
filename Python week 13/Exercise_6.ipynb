{
 "cells": [
  {
   "cell_type": "code",
   "execution_count": 2,
   "metadata": {},
   "outputs": [
    {
     "name": "stdout",
     "output_type": "stream",
     "text": [
      "name:  miki\n",
      "Age:  50\n",
      "name:  miki\n",
      "Age:  35\n",
      "name:  miki\n",
      "Age:  37\n"
     ]
    }
   ],
   "source": [
    "def printinfo(name, age = 35):\n",
    "    #test function\n",
    "    print(\"name: \", name)\n",
    "    print(\"Age: \",age)\n",
    "    return\n",
    "printinfo(age = 50, name = \"miki\")\n",
    "printinfo(name = \"miki\")\n",
    "printinfo (\"miki\", 37)"
   ]
  },
  {
   "cell_type": "code",
   "execution_count": null,
   "metadata": {},
   "outputs": [],
   "source": []
  }
 ],
 "metadata": {
  "kernelspec": {
   "display_name": "Python 3",
   "language": "python",
   "name": "python3"
  },
  "language_info": {
   "codemirror_mode": {
    "name": "ipython",
    "version": 3
   },
   "file_extension": ".py",
   "mimetype": "text/x-python",
   "name": "python",
   "nbconvert_exporter": "python",
   "pygments_lexer": "ipython3",
   "version": "3.8.5"
  }
 },
 "nbformat": 4,
 "nbformat_minor": 4
}
