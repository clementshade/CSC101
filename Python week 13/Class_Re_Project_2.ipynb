{
 "cells": [
  {
   "cell_type": "code",
   "execution_count": null,
   "metadata": {},
   "outputs": [],
   "source": [
    "#variable\n",
    "price = 0"
   ]
  },
  {
   "cell_type": "code",
   "execution_count": 2,
   "metadata": {},
   "outputs": [
    {
     "name": "stdout",
     "output_type": "stream",
     "text": [
      "Welcome to PAU Delivery service\n",
      "Are you located in PAU or EPE: PAU\n",
      "How heavy is your package(in kg): 20\n",
      "Your total price sums up to N 2000\n"
     ]
    }
   ],
   "source": [
    "\n",
    "print(\"Welcome to PAU Delivery service\")\n",
    "\n",
    "def Calculate(LOC,KG):\n",
    "    # Price calculator\n",
    "    if LOC.lower() == \"pau\" and KG >= 10:\n",
    "        price = 2000\n",
    "\n",
    "    elif LOC.lower() == \"pau\" and KG < 10:\n",
    "        price = 1500\n",
    "    \n",
    "    elif LOC.lower() == \"epe\" and KG >= 10:\n",
    "        price = 5000\n",
    "    \n",
    "    elif LOC.lower() == \"epe\" and KG < 10:\n",
    "        price = 4000\n",
    "\n",
    "    print(\"Your total price sums up to N\",price)\n",
    "    return\n",
    "\n",
    "# User input\n",
    "LOCA = (input(\"Are you located in PAU or EPE: \"))\n",
    "KILO = int(input(\"How heavy is your package(in kg): \"))\n",
    "\n",
    "Calculate(LOCA,KILO)"
   ]
  },
  {
   "cell_type": "code",
   "execution_count": null,
   "metadata": {},
   "outputs": [],
   "source": []
  }
 ],
 "metadata": {
  "kernelspec": {
   "display_name": "Python 3",
   "language": "python",
   "name": "python3"
  },
  "language_info": {
   "codemirror_mode": {
    "name": "ipython",
    "version": 3
   },
   "file_extension": ".py",
   "mimetype": "text/x-python",
   "name": "python",
   "nbconvert_exporter": "python",
   "pygments_lexer": "ipython3",
   "version": "3.8.5"
  }
 },
 "nbformat": 4,
 "nbformat_minor": 4
}
