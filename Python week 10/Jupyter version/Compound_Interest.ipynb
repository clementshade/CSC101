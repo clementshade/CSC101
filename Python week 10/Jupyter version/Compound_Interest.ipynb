{
 "cells": [
  {
   "cell_type": "code",
   "execution_count": null,
   "metadata": {},
   "outputs": [],
   "source": [
    "print(\"Welcome to Clement's Compound Interest Calculator\")\n",
    "input(\"press any key to continue...\")\n",
    "\n",
    "#Variables for calculating\n",
    "P = int(input(\"Please input principle(N): \"))\n",
    "R = int(input(\"Please input interest rate(%): \"))\n",
    "n = int(input(\"Please input number of compounds per year: \"))\n",
    "t = int(input(\"Please input number of years: \"))\n",
    "\n",
    "#formula\n",
    "x = (1 + ((R/100)/n))\n",
    "z = x**(n*t)\n",
    "\n",
    "A = P * z\n",
    "#output\n",
    "print(\"Your total amount is\",A,\"with\",A-P,\"as your interest\")\n",
    "input(\"press ant key to continue...\")\n"
   ]
  }
 ],
 "metadata": {
  "kernelspec": {
   "display_name": "Python 3",
   "language": "python",
   "name": "python3"
  },
  "language_info": {
   "codemirror_mode": {
    "name": "ipython",
    "version": 3
   },
   "file_extension": ".py",
   "mimetype": "text/x-python",
   "name": "python",
   "nbconvert_exporter": "python",
   "pygments_lexer": "ipython3",
   "version": "3.8.5"
  }
 },
 "nbformat": 4,
 "nbformat_minor": 4
}
