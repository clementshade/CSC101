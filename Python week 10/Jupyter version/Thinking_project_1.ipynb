{
 "cells": [
  {
   "cell_type": "code",
   "execution_count": 1,
   "metadata": {},
   "outputs": [
    {
     "name": "stdout",
     "output_type": "stream",
     "text": [
      "Amount is 1020.0\n",
      "Simple Interest is 20.0\n",
      "press ant key to exit...\n"
     ]
    },
    {
     "data": {
      "text/plain": [
       "''"
      ]
     },
     "execution_count": 1,
     "metadata": {},
     "output_type": "execute_result"
    }
   ],
   "source": [
    "#Simple interest\n",
    "\n",
    "#variables\n",
    "P = 1000\n",
    "R = 1\n",
    "T = 2\n",
    "\n",
    "#amount\n",
    "A = (P * (1 + ((R/100.0) * T)))\n",
    "print(\"Amount is\", A)\n",
    "#intrest\n",
    "SI = A- P\n",
    "print (\"Simple Interest is\", SI)\n",
    "\n",
    "input(\"press ant key to exit...\")\n"
   ]
  },
  {
   "cell_type": "code",
   "execution_count": null,
   "metadata": {},
   "outputs": [],
   "source": []
  }
 ],
 "metadata": {
  "kernelspec": {
   "display_name": "Python 3",
   "language": "python",
   "name": "python3"
  },
  "language_info": {
   "codemirror_mode": {
    "name": "ipython",
    "version": 3
   },
   "file_extension": ".py",
   "mimetype": "text/x-python",
   "name": "python",
   "nbconvert_exporter": "python",
   "pygments_lexer": "ipython3",
   "version": "3.8.5"
  }
 },
 "nbformat": 4,
 "nbformat_minor": 4
}
