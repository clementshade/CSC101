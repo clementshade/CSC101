{
 "cells": [
  {
   "cell_type": "code",
   "execution_count": 1,
   "metadata": {},
   "outputs": [
    {
     "name": "stdout",
     "output_type": "stream",
     "text": [
      "[1, 2, 3, 4, 5]\n",
      "Mouse\n",
      "Keyboard\n",
      "Monitor\n",
      "Element at index 3 is: [20, 'CSC101', 15, 'Python Programming']\n"
     ]
    }
   ],
   "source": [
    "# list of integers\n",
    "lis1 = [1,2,3,4,5]\n",
    "\n",
    "#print entire list\n",
    "print(lis1)\n",
    "\n",
    "#list of strings\n",
    "lis2 = [\"Mouse\",\"Keyboard\",\"Monitor\",]\n",
    "\n",
    "#loop through list elements\n",
    "for i in lis2:\n",
    "    print(i)\n",
    "\n",
    "#list of mixed type elements\n",
    "lis3 = [20,\"CSC101\",15,\"Python Programming\"]\n",
    "\n",
    "''' Print a Speific element in list indexes start with zero '''\n",
    "print(\"Element at index 3 is:\", lis3)\n"
   ]
  },
  {
   "cell_type": "code",
   "execution_count": null,
   "metadata": {},
   "outputs": [],
   "source": []
  }
 ],
 "metadata": {
  "kernelspec": {
   "display_name": "Python 3",
   "language": "python",
   "name": "python3"
  },
  "language_info": {
   "codemirror_mode": {
    "name": "ipython",
    "version": 3
   },
   "file_extension": ".py",
   "mimetype": "text/x-python",
   "name": "python",
   "nbconvert_exporter": "python",
   "pygments_lexer": "ipython3",
   "version": "3.8.5"
  }
 },
 "nbformat": 4,
 "nbformat_minor": 4
}
