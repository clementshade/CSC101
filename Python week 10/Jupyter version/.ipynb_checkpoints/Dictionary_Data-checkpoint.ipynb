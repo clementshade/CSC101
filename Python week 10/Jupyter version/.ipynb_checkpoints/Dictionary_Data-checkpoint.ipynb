{
 "cells": [
  {
   "cell_type": "code",
   "execution_count": null,
   "metadata": {},
   "outputs": [],
   "source": [
    "# Dictionary exampl\n",
    "dict = {1:\"Maryam\",\"Lastname\":\"Shefiu\",\"age\":25}\n",
    "\n",
    "#prints the value where key value is 1\n",
    "print(dict[1])\n",
    "\n",
    "#prints the value where key value is \"Lastname\"\n",
    "print(dict[\"Lastname\"])\n",
    "\n",
    "#prints the value where key value is \"age\"\n",
    "print(dict[\"age\"])\n",
    "\n",
    "\n"
   ]
  }
 ],
 "metadata": {
  "kernelspec": {
   "display_name": "Python 3",
   "language": "python",
   "name": "python3"
  },
  "language_info": {
   "codemirror_mode": {
    "name": "ipython",
    "version": 3
   },
   "file_extension": ".py",
   "mimetype": "text/x-python",
   "name": "python",
   "nbconvert_exporter": "python",
   "pygments_lexer": "ipython3",
   "version": "3.8.5"
  }
 },
 "nbformat": 4,
 "nbformat_minor": 4
}
