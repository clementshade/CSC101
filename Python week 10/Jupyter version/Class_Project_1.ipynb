{
 "cells": [
  {
   "cell_type": "code",
   "execution_count": null,
   "metadata": {},
   "outputs": [
    {
     "name": "stdout",
     "output_type": "stream",
     "text": [
      "Name of first person: f\n",
      "Hello, how old are u f\n",
      "...1\n",
      "f is 1 years old\n",
      "Name of second person: g\n",
      "Hello, how old are u g\n",
      "...2\n",
      "g is 2 years old\n",
      "Now im going to swap ages\n",
      "f is 2 years old\n",
      "g is 1 years old\n"
     ]
    }
   ],
   "source": [
    "#Input name and ages\n",
    "\n",
    "#Person one data\n",
    "name1 = str(input('Name of first person: '))\n",
    "print(\"Hello, how old are u\",name1)\n",
    "age1 = input(\"...\")\n",
    "print(name1,\"is\", age1,\"years old\")\n",
    "\n",
    "#person two data\n",
    "name2 = str(input('Name of second person: '))\n",
    "print(\"Hello, how old are u\",name2)\n",
    "age2 = input(\"...\")\n",
    "print(name2,\"is\", age2,\"years old\")\n",
    "\n",
    "input(\"Now im going to swap ages\")\n",
    "#switching variables\n",
    "print(name1,\"is\", age2,\"years old\")\n",
    "print(name2,\"is\", age1,\"years old\")\n",
    "\n",
    "input(\"press any key to exit...\")\n",
    "\n"
   ]
  },
  {
   "cell_type": "code",
   "execution_count": null,
   "metadata": {},
   "outputs": [],
   "source": []
  }
 ],
 "metadata": {
  "kernelspec": {
   "display_name": "Python 3",
   "language": "python",
   "name": "python3"
  },
  "language_info": {
   "codemirror_mode": {
    "name": "ipython",
    "version": 3
   },
   "file_extension": ".py",
   "mimetype": "text/x-python",
   "name": "python",
   "nbconvert_exporter": "python",
   "pygments_lexer": "ipython3",
   "version": "3.8.5"
  }
 },
 "nbformat": 4,
 "nbformat_minor": 4
}
