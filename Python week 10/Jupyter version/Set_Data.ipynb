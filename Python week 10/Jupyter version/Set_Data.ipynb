{
 "cells": [
  {
   "cell_type": "code",
   "execution_count": 1,
   "metadata": {},
   "outputs": [
    {
     "name": "stdout",
     "output_type": "stream",
     "text": [
      "Adaobi\n",
      "Ugochi\n",
      "Joseph\n",
      "Kamara\n",
      "False\n",
      "{'Adaobi', 99, 'Ugochi', 'Joseph', 'Kamara'}\n"
     ]
    }
   ],
   "source": [
    "# Set Example\n",
    "myset = {\"Joseph\", \"Adaobi\", \"Kamara\", \"Ugochi\"}\n",
    "# Loop through set\n",
    "for i in myset:\n",
    "    print(i)\n",
    "\n",
    "#checking wheter 2 exists in myset\n",
    "print(2 in myset)\n",
    "\n",
    "#adding new element\n",
    "\n",
    "myset.add(99)\n",
    "print(myset)\n"
   ]
  },
  {
   "cell_type": "code",
   "execution_count": null,
   "metadata": {},
   "outputs": [],
   "source": []
  }
 ],
 "metadata": {
  "kernelspec": {
   "display_name": "Python 3",
   "language": "python",
   "name": "python3"
  },
  "language_info": {
   "codemirror_mode": {
    "name": "ipython",
    "version": 3
   },
   "file_extension": ".py",
   "mimetype": "text/x-python",
   "name": "python",
   "nbconvert_exporter": "python",
   "pygments_lexer": "ipython3",
   "version": "3.8.5"
  }
 },
 "nbformat": 4,
 "nbformat_minor": 4
}
