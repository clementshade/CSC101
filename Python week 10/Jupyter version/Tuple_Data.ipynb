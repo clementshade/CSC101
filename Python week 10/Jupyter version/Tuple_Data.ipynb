{
 "cells": [
  {
   "cell_type": "code",
   "execution_count": null,
   "metadata": {},
   "outputs": [],
   "source": [
    "# tuple of integers\n",
    "t1 = (1, 2, 3, 4, 5)\n",
    "\n",
    "#print entire tuple\n",
    "print(t1)\n",
    "\n",
    "#tuple of strings\n",
    "t2 = (\"Nifemi\",\"Gina\",\"Marho\")\n",
    "\n",
    "#loop through tuple elements\n",
    "for i in t2:\n",
    "    print(i)\n",
    "\n",
    "#tuple of mixed elements\n",
    "t3 = (2, \"Ebube\", 45, \"jeffery\")\n",
    "\n",
    "'''\n",
    "Print a specific element\n",
    "Indexes start with zero\n",
    "'''\n",
    "print(t3[2])\n"
   ]
  }
 ],
 "metadata": {
  "kernelspec": {
   "display_name": "Python 3",
   "language": "python",
   "name": "python3"
  },
  "language_info": {
   "codemirror_mode": {
    "name": "ipython",
    "version": 3
   },
   "file_extension": ".py",
   "mimetype": "text/x-python",
   "name": "python",
   "nbconvert_exporter": "python",
   "pygments_lexer": "ipython3",
   "version": "3.8.5"
  }
 },
 "nbformat": 4,
 "nbformat_minor": 4
}
