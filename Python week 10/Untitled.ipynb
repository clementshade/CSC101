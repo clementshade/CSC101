{
 "cells": [
  {
   "cell_type": "code",
   "execution_count": 1,
   "metadata": {},
   "outputs": [
    {
     "name": "stdout",
     "output_type": "stream",
     "text": [
      "100\n",
      "Data type of variable num is 100\n",
      "34.45\n",
      "Data type of variable fnum is 34.45\n",
      "(3+4j)\n",
      "Data type of variable cnum is (3+4j)\n"
     ]
    }
   ],
   "source": [
    "#integer number\n",
    "num = 100\n",
    "print(num)\n",
    "print(\"Data type of variable num is\",(num))\n",
    "\n",
    "#float number\n",
    "fnum = 34.45\n",
    "print(fnum)\n",
    "print(\"Data type of variable fnum is\",(fnum))\n",
    "\n",
    "#complex number\n",
    "cnum = 3 + 4j\n",
    "print(cnum)\n",
    "print(\"Data type of variable cnum is\",(cnum))"
   ]
  },
  {
   "cell_type": "code",
   "execution_count": 2,
   "metadata": {},
   "outputs": [
    {
     "name": "stdout",
     "output_type": "stream",
     "text": [
      "Hi my name is Matthew. I am String\n",
      "<class 'str'>\n",
      "Hi my name is Precious. I am also String\n",
      "<class 'str'>\n"
     ]
    }
   ],
   "source": [
    "#python program to print strings and type\n",
    "str1 = \"Hi my name is Matthew. I am String\"\n",
    "str2 = 'Hi my name is Precious. I am also String'\n",
    "\n",
    "#displaying string str1 and its type\n",
    "print(str1)\n",
    "print(type(str1))\n",
    "\n",
    "#displaying string str1 and its type\n",
    "print(str2)\n",
    "print(type(str2))\n"
   ]
  },
  {
   "cell_type": "code",
   "execution_count": 3,
   "metadata": {},
   "outputs": [
    {
     "name": "stdout",
     "output_type": "stream",
     "text": [
      "(1, 2, 3, 4, 5)\n",
      "Nifemi\n",
      "Gina\n",
      "Marho\n",
      "45\n"
     ]
    }
   ],
   "source": [
    "# tuple of integers\n",
    "t1 = (1, 2, 3, 4, 5)\n",
    "\n",
    "#print entire tuple\n",
    "print(t1)\n",
    "\n",
    "#tuple of strings\n",
    "t2 = (\"Nifemi\",\"Gina\",\"Marho\")\n",
    "\n",
    "#loop through tuple elements\n",
    "for i in t2:\n",
    "    print(i)\n",
    "\n",
    "#tuple of mixed elements\n",
    "t3 = (2, \"Ebube\", 45, \"jeffery\")\n",
    "\n",
    "'''\n",
    "Print a specific element\n",
    "Indexes start with zero\n",
    "'''\n",
    "print(t3[2])"
   ]
  },
  {
   "cell_type": "code",
   "execution_count": 4,
   "metadata": {},
   "outputs": [
    {
     "name": "stdout",
     "output_type": "stream",
     "text": [
      "[1, 2, 3, 4, 5]\n",
      "Mouse\n",
      "Keyboard\n",
      "Monitor\n",
      "Element at index 3 is: [20, 'CSC101', 15, 'Python Programming']\n"
     ]
    }
   ],
   "source": [
    "# list of integers\n",
    "lis1 = [1,2,3,4,5]\n",
    "\n",
    "#print entire list\n",
    "print(lis1)\n",
    "\n",
    "#list of strings\n",
    "lis2 = [\"Mouse\",\"Keyboard\",\"Monitor\",]\n",
    "\n",
    "#loop through list elements\n",
    "for i in lis2:\n",
    "    print(i)\n",
    "\n",
    "#list of mixed type elements\n",
    "lis3 = [20,\"CSC101\",15,\"Python Programming\"]\n",
    "\n",
    "''' Print a Speific element in list indexes start with zero '''\n",
    "print(\"Element at index 3 is:\", lis3)\n"
   ]
  },
  {
   "cell_type": "code",
   "execution_count": 5,
   "metadata": {},
   "outputs": [
    {
     "name": "stdout",
     "output_type": "stream",
     "text": [
      "Maryam\n",
      "Shefiu\n",
      "25\n"
     ]
    }
   ],
   "source": [
    "# Dictionary exampl\n",
    "dict = {1:\"Maryam\",\"Lastname\":\"Shefiu\",\"age\":25}\n",
    "\n",
    "#prints the value where key value is 1\n",
    "print(dict[1])\n",
    "\n",
    "#prints the value where key value is \"Lastname\"\n",
    "print(dict[\"Lastname\"])\n",
    "\n",
    "#prints the value where key value is \"age\"\n",
    "print(dict[\"age\"])\n"
   ]
  },
  {
   "cell_type": "code",
   "execution_count": 6,
   "metadata": {},
   "outputs": [
    {
     "name": "stdout",
     "output_type": "stream",
     "text": [
      "Adaobi\n",
      "Ugochi\n",
      "Joseph\n",
      "Kamara\n",
      "False\n",
      "{'Adaobi', 99, 'Joseph', 'Ugochi', 'Kamara'}\n"
     ]
    }
   ],
   "source": [
    "# Set Example\n",
    "myset = {\"Joseph\", \"Adaobi\", \"Kamara\", \"Ugochi\"}\n",
    "# Loop through set\n",
    "for i in myset:\n",
    "    print(i)\n",
    "\n",
    "#checking wheter 2 exists in myset\n",
    "print(2 in myset)\n",
    "\n",
    "#adding new element\n",
    "\n",
    "myset.add(99)\n",
    "print(myset)\n"
   ]
  },
  {
   "cell_type": "code",
   "execution_count": 7,
   "metadata": {},
   "outputs": [
    {
     "name": "stdout",
     "output_type": "stream",
     "text": [
      "Amount is 1020.0\n",
      "Simple Interest is 20.0\n",
      "press ant key to exit...\n"
     ]
    },
    {
     "data": {
      "text/plain": [
       "''"
      ]
     },
     "execution_count": 7,
     "metadata": {},
     "output_type": "execute_result"
    }
   ],
   "source": [
    "#Simple interest\n",
    "\n",
    "#variables\n",
    "P = 1000\n",
    "R = 1\n",
    "T = 2\n",
    "\n",
    "#amount\n",
    "A = (P * (1 + ((R/100.0) * T)))\n",
    "print(\"Amount is\", A)\n",
    "#intrest\n",
    "SI = A- P\n",
    "print (\"Simple Interest is\", SI)\n",
    "\n",
    "input(\"press ant key to exit...\")\n"
   ]
  },
  {
   "cell_type": "code",
   "execution_count": 8,
   "metadata": {},
   "outputs": [
    {
     "name": "stdout",
     "output_type": "stream",
     "text": [
      "The solution are (-3+0j) and (-2+0j)\n",
      "press ant key to exit...\n"
     ]
    },
    {
     "data": {
      "text/plain": [
       "''"
      ]
     },
     "execution_count": 8,
     "metadata": {},
     "output_type": "execute_result"
    }
   ],
   "source": [
    "# solve the quadratic equatin ax**2 + bx + c =0\n",
    "\n",
    "# import complex math module\n",
    "import cmath\n",
    "\n",
    "a = 1\n",
    "b = 5\n",
    "c = 6\n",
    "\n",
    "# calculate the discriminant\n",
    "\n",
    "d = (b**2)- (4*a*c)\n",
    "\n",
    "#find the soutions\n",
    "sol1 = (-b-cmath.sqrt(d))/(2*a)\n",
    "sol2 = (-b+cmath.sqrt(d))/(2*a)\n",
    "\n",
    "print ('The solution are', sol1,\"and\",sol2)\n",
    "input(\"press ant key to exit...\")\n"
   ]
  },
  {
   "cell_type": "code",
   "execution_count": 9,
   "metadata": {},
   "outputs": [
    {
     "name": "stdout",
     "output_type": "stream",
     "text": [
      "Enter first side: \n"
     ]
    },
    {
     "ename": "ValueError",
     "evalue": "could not convert string to float: ''",
     "output_type": "error",
     "traceback": [
      "\u001b[1;31m---------------------------------------------------------------------------\u001b[0m",
      "\u001b[1;31mValueError\u001b[0m                                Traceback (most recent call last)",
      "\u001b[1;32m<ipython-input-9-f5325bc336b6>\u001b[0m in \u001b[0;36m<module>\u001b[1;34m\u001b[0m\n\u001b[0;32m      2\u001b[0m \u001b[1;33m\u001b[0m\u001b[0m\n\u001b[0;32m      3\u001b[0m \u001b[1;31m# Take inputs from the user\u001b[0m\u001b[1;33m\u001b[0m\u001b[1;33m\u001b[0m\u001b[1;33m\u001b[0m\u001b[0m\n\u001b[1;32m----> 4\u001b[1;33m \u001b[0ma\u001b[0m \u001b[1;33m=\u001b[0m \u001b[0mfloat\u001b[0m\u001b[1;33m(\u001b[0m\u001b[0minput\u001b[0m\u001b[1;33m(\u001b[0m\u001b[1;34m'Enter first side: '\u001b[0m\u001b[1;33m)\u001b[0m\u001b[1;33m)\u001b[0m\u001b[1;33m\u001b[0m\u001b[1;33m\u001b[0m\u001b[0m\n\u001b[0m\u001b[0;32m      5\u001b[0m \u001b[0mb\u001b[0m \u001b[1;33m=\u001b[0m \u001b[0mfloat\u001b[0m\u001b[1;33m(\u001b[0m\u001b[0minput\u001b[0m\u001b[1;33m(\u001b[0m\u001b[1;34m'Enter second side: '\u001b[0m\u001b[1;33m)\u001b[0m\u001b[1;33m)\u001b[0m\u001b[1;33m\u001b[0m\u001b[1;33m\u001b[0m\u001b[0m\n\u001b[0;32m      6\u001b[0m \u001b[0mc\u001b[0m \u001b[1;33m=\u001b[0m \u001b[0mfloat\u001b[0m\u001b[1;33m(\u001b[0m\u001b[0minput\u001b[0m\u001b[1;33m(\u001b[0m\u001b[1;34m'Enter third side: '\u001b[0m\u001b[1;33m)\u001b[0m\u001b[1;33m)\u001b[0m\u001b[1;33m\u001b[0m\u001b[1;33m\u001b[0m\u001b[0m\n",
      "\u001b[1;31mValueError\u001b[0m: could not convert string to float: ''"
     ]
    }
   ],
   "source": [
    "# Phython program to find the are of triangle\n",
    "\n",
    "# Take inputs from the user\n",
    "a = float(input('Enter first side(0.0): '))\n",
    "b = float(input('Enter second side(0.0): '))\n",
    "c = float(input('Enter third side(0.0): '))\n",
    "\n",
    "# calculate the semi-perimeter\n",
    "s = (a + b + c)/2\n",
    "\n",
    "#calculating the area\n",
    "area = (s*(s-a)*(s-b)*(s-c)) ** 0.5\n",
    "print(\"The area of the triangle is %0.2f\" %area)\n",
    "input(\"press ant key to exit...\")\n",
    "\n",
    "\n"
   ]
  },
  {
   "cell_type": "code",
   "execution_count": null,
   "metadata": {},
   "outputs": [],
   "source": [
    "#Input name and ages\n",
    "\n",
    "#Person one data\n",
    "name1 = str(input('Name of first person: '))\n",
    "print(\"Hello, how old are u\",name1)\n",
    "age1 = input(\"...\")\n",
    "print(name1,\"is\", age1,\"years old\")\n",
    "\n",
    "#person two data\n",
    "name2 = str(input('Name of second person: '))\n",
    "print(\"Hello, how old are u\",name2)\n",
    "age2 = input(\"...\")\n",
    "print(name2,\"is\", age2,\"years old\")\n",
    "\n",
    "input(\"Now im going to swap ages\")\n",
    "#switching variables\n",
    "print(name1,\"is\", age2,\"years old\")\n",
    "print(name2,\"is\", age1,\"years old\")\n",
    "\n",
    "input(\"press ant key to exit...\")\n",
    "\n"
   ]
  },
  {
   "cell_type": "code",
   "execution_count": null,
   "metadata": {},
   "outputs": [],
   "source": [
    "# List to hold questions and answers\n",
    "que = [\"Which part of the computer displays visual information?\",\n",
    "       \"What is the largest computer network\",\n",
    "       \"Who is the known as the Father of computers\",\n",
    "       '''Complete this sentencs.\n",
    "          input,_____, processing, storage\n",
    "        ''',\n",
    "       \"The part of the computer that acts as the brain is(Full Meaning),\n",
    "       '''which of these is an example of early thinking machine\n",
    "        Mouse, Calculator, Abacus, Fish counter''',\n",
    "       \"Code to display hello world\",\n",
    "       \"Full meaning of ICT\",\n",
    "       \"______ is the ability of a computer to do task that require human intelligence(Full Meaning)\",\n",
    "       \"Who invented python?(Full Name)\"]\n",
    "ans = [\"MONITOR\",\"INTERNET\",\"CHARLES BABBAGE\",\"OUTPUT\",\n",
    "       \"central processing unit\",\"Abacus\",\"print(\\\"hello world\\\")\",\n",
    "       \"INFORMATION AND COMMUNICATION TECHNOLOGIES\",\"ARTIFICIAL INTELLIGENCE\",\n",
    "       \"GUIDO VAN ROSSUM\"]\n",
    "\n",
    "# Game variables\n",
    "point = 0\n",
    "chance = 3\n",
    "question = 10\n",
    "Q = 1\n",
    "cor = 0\n",
    "\n",
    "\n",
    "#Start\n",
    "\n",
    "   \n",
    "while Q < 11:\n",
    "# Question to answer\n",
    "        print(que[Q-1])\n",
    "        #cor is the answer in respect to the number of question\n",
    "        cor = (ans[Q-1])\n",
    "        chance -= 1\n",
    "        A = (input(\"What is your answer: \"))\n",
    "\n",
    "        \n",
    "        \n",
    "# Correct  Answer\n",
    "        if chance != 0:\n",
    "                if A.replace(\" \",\"\").lower() == (cor.replace(\" \",\"\").lower()):\n",
    "                    print(\"Correct\")\n",
    "                    point += 1\n",
    "                    Q += 1\n",
    "                    chance = 3\n",
    "                    continue\n",
    "# Wrong Answer    \n",
    "                else:\n",
    "                   print(\"Wrong\")\n",
    "\n",
    "                   continue\n",
    "        if chance == 0:\n",
    "                print(\"out of chances. Next question\")\n",
    "                Q += 1\n",
    "                chance = 3\n",
    "                pass\n",
    "                \n",
    "                   \n",
    "\n",
    "        \n",
    "#Game Over\n",
    "        if Q == 11:\n",
    "                print(\"You've answered all the questions\")\n",
    "                input(\"...\")\n",
    "#FinalScore\n",
    "                if point == 10:\n",
    "                        print(\"Congratulations, You got\",point,\"points out of 10 correct\")\n",
    "                elif point >= 1:\n",
    "                        print(\"Nice try, You got\",point,\"points out of 10 correct\")\n",
    "                elif point == 0 :\n",
    "                        print(\"Are you even trying, Zero points!\")\n",
    "                else:\n",
    "                        pass\n",
    "                pass\n",
    "                input(\"...\")\n",
    "                print(\"Game over\")\n",
    "#Retry?        \n",
    "                R = input(\"Do u wanna play again(y/n): \")\n",
    "                if R.lower() == \"y\":\n",
    "                        Q = 1\n",
    "                        chance = 3                \n",
    "                        point = 0\n",
    "                        continue\n",
    "                \n",
    "                if R.lower() == \"n\":\n",
    "                        input(\"See you next time...\")\n",
    "                        \n",
    "                      \n",
    "                else:\n",
    "                        break\n",
    "\n",
    "        \n",
    "    \n",
    "\n"
   ]
  },
  {
   "cell_type": "code",
   "execution_count": null,
   "metadata": {},
   "outputs": [],
   "source": []
  }
 ],
 "metadata": {
  "kernelspec": {
   "display_name": "Python 3",
   "language": "python",
   "name": "python3"
  },
  "language_info": {
   "codemirror_mode": {
    "name": "ipython",
    "version": 3
   },
   "file_extension": ".py",
   "mimetype": "text/x-python",
   "name": "python",
   "nbconvert_exporter": "python",
   "pygments_lexer": "ipython3",
   "version": "3.8.5"
  }
 },
 "nbformat": 4,
 "nbformat_minor": 4
}
