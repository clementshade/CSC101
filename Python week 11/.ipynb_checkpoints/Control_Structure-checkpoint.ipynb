{
 "cells": [
  {
   "cell_type": "markdown",
   "metadata": {},
   "source": [
    "# Control Structures"
   ]
  },
  {
   "cell_type": "code",
   "execution_count": 17,
   "metadata": {},
   "outputs": [
    {
     "name": "stdout",
     "output_type": "stream",
     "text": [
      "does jerry have his cheese(yes/no): yes\n",
      "Jerry is real nice\n",
      "Jerry gave his cheese\n"
     ]
    }
   ],
   "source": [
    "A = str(input(\"does jerry have his cheese(yes/no): \"))\n",
    "if A.replace(\" \",\"\").lower() == \"yes\":\n",
    "    cheese = \"GOOD\"\n",
    "elif A.replace(\" \",\"\").lower() != \"yes\":\n",
    "    cheese = \"BAD\"\n",
    "else:\n",
    "    print(\"error\")\n",
    "\n",
    "\n",
    "if cheese == \"GOOD\":\n",
    "    print(\"Jerry is real nice\")\n",
    "    print(\"Jerry has his cheese\")\n",
    "if cheese == \"BAD\":\n",
    "    print(\"Jerry is not nice\")\n",
    "    print(\"Jerry lost his cheese\")"
   ]
  },
  {
   "cell_type": "code",
   "execution_count": 2,
   "metadata": {},
   "outputs": [],
   "source": [
    "x = 5"
   ]
  },
  {
   "cell_type": "markdown",
   "metadata": {},
   "source": [
    "<img src = \"mer.png\" width =\"200\" height=\"200\">"
   ]
  },
  {
   "cell_type": "code",
   "execution_count": 6,
   "metadata": {},
   "outputs": [
    {
     "name": "stdout",
     "output_type": "stream",
     "text": [
      "Hello\n",
      "world\n",
      "1\n",
      "2\n",
      "3\n"
     ]
    }
   ],
   "source": [
    "lis = ['Hello','world',1,2,3]\n",
    "for i in lis:\n",
    "    print(i)"
   ]
  },
  {
   "cell_type": "code",
   "execution_count": 23,
   "metadata": {},
   "outputs": [
    {
     "name": "stdout",
     "output_type": "stream",
     "text": [
      "0\n",
      "2\n",
      "4\n",
      "6\n",
      "8\n",
      "10\n",
      "12\n",
      "14\n",
      "16\n",
      "18\n",
      "20\n",
      "22\n",
      "24\n",
      "26\n",
      "28\n",
      "30\n",
      "32\n",
      "34\n",
      "36\n",
      "38\n",
      "40\n",
      "42\n",
      "44\n",
      "46\n",
      "48\n",
      "50\n",
      "i've reached 50\n"
     ]
    }
   ],
   "source": [
    "for i in range(0,100,2):\n",
    "    print(i)\n",
    "    if i >= 50:\n",
    "        print(\"i\\'ve reached 50\")\n",
    "        \n",
    "        break\n",
    "    "
   ]
  },
  {
   "cell_type": "code",
   "execution_count": 32,
   "metadata": {},
   "outputs": [
    {
     "name": "stdout",
     "output_type": "stream",
     "text": [
      "Value of A10\n",
      "a is least than the sum of b and c\n"
     ]
    }
   ],
   "source": [
    "a = int(input(\"Value of A\"))\n",
    "b = 7\n",
    "c = 10\n",
    "\n",
    "if a > (b+c):\n",
    "    print('a is greater than the sum of b and c')\n",
    "else:\n",
    "    print('a is least than the sum of b and c')\n",
    "    "
   ]
  },
  {
   "cell_type": "code",
   "execution_count": 35,
   "metadata": {},
   "outputs": [
    {
     "name": "stdout",
     "output_type": "stream",
     "text": [
      "Welcome\n",
      "To\n",
      "Control Structures\n"
     ]
    }
   ],
   "source": [
    "flag = True \n",
    "if flag == True:\n",
    "    print('Welcome')\n",
    "    print('To')\n",
    "    print('Control Structures')"
   ]
  },
  {
   "cell_type": "code",
   "execution_count": 36,
   "metadata": {},
   "outputs": [
    {
     "name": "stdout",
     "output_type": "stream",
     "text": [
      "num is less than 200\n"
     ]
    }
   ],
   "source": [
    "num = 100\n",
    "if num < 200:\n",
    "    print(\"num is less than 200\")"
   ]
  },
  {
   "cell_type": "code",
   "execution_count": 38,
   "metadata": {},
   "outputs": [
    {
     "name": "stdout",
     "output_type": "stream",
     "text": [
      "Even number\n",
      "0\n"
     ]
    }
   ],
   "source": [
    "num = 22\n",
    "if num % 2 == 0:\n",
    "    print(\"Even number\")\n",
    "else:\n",
    "    print(\"Odd Number\")"
   ]
  },
  {
   "cell_type": "code",
   "execution_count": 43,
   "metadata": {},
   "outputs": [
    {
     "name": "stdout",
     "output_type": "stream",
     "text": [
      "number is odd\n"
     ]
    }
   ],
   "source": [
    "G = 15\n",
    "h = 7\n",
    "if (G*h) % 2 ==0:\n",
    "    print (\"product is Even\")\n",
    "else:\n",
    "    print(\"product is odd\")"
   ]
  },
  {
   "cell_type": "code",
   "execution_count": 42,
   "metadata": {},
   "outputs": [
    {
     "name": "stdout",
     "output_type": "stream",
     "text": [
      "Four digit number\n"
     ]
    }
   ],
   "source": [
    "num = 1122\n",
    "if 9 <num< 99:\n",
    "    print(\"Two digit number\")\n",
    "elif 99 <num< 999:\n",
    "    print(\"Three digit number\")\n",
    "elif 999 <num< 9999:\n",
    "    print(\"Four digit number\")\n",
    "else:\n",
    "    print(\"number is <= 9 or >= 9999\")"
   ]
  },
  {
   "cell_type": "code",
   "execution_count": 44,
   "metadata": {},
   "outputs": [
    {
     "name": "stdout",
     "output_type": "stream",
     "text": [
      "Negative number\n",
      "Two digit Negative Number\n"
     ]
    }
   ],
   "source": [
    "num = -99\n",
    "if num > 0:\n",
    "    print(\"Positive number\")\n",
    "else:\n",
    "    print(\"Negative number\")\n",
    "    #nested if\n",
    "    if -99 <= num:\n",
    "        print(\"Two digit Negative Number\")\n",
    "    "
   ]
  },
  {
   "cell_type": "code",
   "execution_count": 46,
   "metadata": {},
   "outputs": [
    {
     "name": "stdout",
     "output_type": "stream",
     "text": [
      "0\n",
      "1\n",
      "2\n",
      "3\n",
      "4\n",
      "the loop has completed execution\n"
     ]
    }
   ],
   "source": [
    "for val in range(5):\n",
    "    print(val)\n",
    "else:\n",
    "    print(\"the loop has completed execution\")"
   ]
  },
  {
   "cell_type": "code",
   "execution_count": 47,
   "metadata": {},
   "outputs": [
    {
     "name": "stdout",
     "output_type": "stream",
     "text": [
      "0 , 10\n",
      "0 , 11\n",
      "0 , 12\n",
      "0 , 13\n",
      "1 , 10\n",
      "1 , 11\n",
      "1 , 12\n",
      "1 , 13\n",
      "2 , 10\n",
      "2 , 11\n",
      "2 , 12\n",
      "2 , 13\n"
     ]
    }
   ],
   "source": [
    "for num1 in range(3):\n",
    "    for num2 in range (10,14):\n",
    "        print(num1,\",\",num2)"
   ]
  },
  {
   "cell_type": "code",
   "execution_count": 48,
   "metadata": {},
   "outputs": [
    {
     "name": "stdout",
     "output_type": "stream",
     "text": [
      "What is the temperature in Celsius10\n",
      "Done\n"
     ]
    }
   ],
   "source": [
    "temperature = int(input(\"What is the temperature in Celsius\"))\n",
    "if temperature > 40:\n",
    "    print(\"It is hot outside\")\n",
    "print(\"Done\")"
   ]
  },
  {
   "cell_type": "code",
   "execution_count": 49,
   "metadata": {},
   "outputs": [
    {
     "name": "stdout",
     "output_type": "stream",
     "text": [
      "What is your name?Clem\n",
      "Your name is ok\n"
     ]
    }
   ],
   "source": [
    "userName = input(\"What is your name?\")\n",
    "if userName == \"Joseph\":\n",
    "    print(\"You have a nice name\")\n",
    "else:\n",
    "    print(\"Your name is ok\")"
   ]
  },
  {
   "cell_type": "code",
   "execution_count": 50,
   "metadata": {},
   "outputs": [
    {
     "name": "stdout",
     "output_type": "stream",
     "text": [
      "What is the temperature in Celsius48\n",
      "It is hot outside\n",
      "Done\n"
     ]
    }
   ],
   "source": [
    "temperature = int(input(\"What is the temperature in Celsius\"))\n",
    "if temperature > 25:\n",
    "    print(\"It is hot outside\")\n",
    "else:\n",
    "    print (\"It is not hot outside\")\n",
    "print(\"Done\")"
   ]
  },
  {
   "cell_type": "code",
   "execution_count": 51,
   "metadata": {},
   "outputs": [
    {
     "name": "stdout",
     "output_type": "stream",
     "text": [
      "a and b are equal\n"
     ]
    }
   ],
   "source": [
    "a = 33\n",
    "b = 33\n",
    "if b > a:\n",
    "    print (\"b is greater than a\")\n",
    "elif a == b:\n",
    "    print(\"a and b are equal\")"
   ]
  },
  {
   "cell_type": "code",
   "execution_count": 52,
   "metadata": {},
   "outputs": [
    {
     "name": "stdout",
     "output_type": "stream",
     "text": [
      "What is the temperature in Celsius? 10\n",
      "It is cold outside\n",
      "Done\n"
     ]
    }
   ],
   "source": [
    "temperature = int(input(\"What is the temperature in Celsius? \"))\n",
    "if temperature > 90:\n",
    "    print(\"It is hot outside\")\n",
    "elif temperature < 30:\n",
    "    print(\"It is cold outside\")\n",
    "else:\n",
    "    print(\"It is not hot outside\")\n",
    "print(\"Done\")"
   ]
  },
  {
   "cell_type": "code",
   "execution_count": 53,
   "metadata": {},
   "outputs": [
    {
     "name": "stdout",
     "output_type": "stream",
     "text": [
      "Above 10\n",
      "and also above 20!\n"
     ]
    }
   ],
   "source": [
    "x = 41\n",
    "if x > 10:\n",
    "    print (\"Above 10\")\n",
    "    if x > 20:\n",
    "        print(\"and also above 20!\")\n",
    "    else:\n",
    "        print(\"but not above 20\")\n",
    "    "
   ]
  },
  {
   "cell_type": "code",
   "execution_count": 54,
   "metadata": {},
   "outputs": [
    {
     "name": "stdout",
     "output_type": "stream",
     "text": [
      "1\n",
      "4\n",
      "16\n",
      "36\n",
      "121\n",
      "400\n"
     ]
    }
   ],
   "source": [
    "#program to print squares of all numbers in a list\n",
    "#List of integer numbers\n",
    "\n",
    "numbers = [1,2,4,6,11,20]\n",
    "#variable to store the square each num temporary\n",
    "sq = 0\n",
    "#iterating over the given list\n",
    "for val in numbers:#calculating square of each number\n",
    "    sq = val * val\n",
    "    # displaying the squares of each number\n",
    "    print(sq)"
   ]
  },
  {
   "cell_type": "code",
   "execution_count": 55,
   "metadata": {},
   "outputs": [
    {
     "name": "stdout",
     "output_type": "stream",
     "text": [
      "0\n",
      "1\n",
      "2\n",
      "3\n",
      "4\n",
      "5\n",
      "6\n",
      "7\n",
      "8\n",
      "9\n",
      "1\n",
      "2\n",
      "3\n",
      "4\n",
      "5\n",
      "6\n",
      "7\n",
      "8\n",
      "9\n",
      "10\n",
      "1\n",
      "2\n",
      "3\n",
      "4\n",
      "5\n",
      "6\n",
      "7\n",
      "8\n",
      "9\n",
      "10\n",
      "2\n",
      "4\n",
      "6\n",
      "8\n",
      "10\n",
      "2\n",
      "4\n",
      "6\n",
      "8\n",
      "10\n"
     ]
    }
   ],
   "source": [
    "#print numbers 0 to 9\n",
    "for i  in range(10):\n",
    "    print(i)\n",
    "# Two ways to print the numbers 1 to 19\n",
    "for i  in range(1,11):\n",
    "    print(i)\n",
    "\n",
    "for i  in range(10):\n",
    "    print(i + 1)\n",
    "# Two ways to print the even numbers 2 to 10\n",
    "for i  in range(2,12,2):\n",
    "    print(i)\n",
    "\n",
    "for i  in range(5):\n",
    "    print((i + 1)*2)\n",
    "    "
   ]
  },
  {
   "cell_type": "code",
   "execution_count": 56,
   "metadata": {},
   "outputs": [
    {
     "name": "stdout",
     "output_type": "stream",
     "text": [
      "0\n",
      "1\n",
      "2\n",
      "3\n",
      "4\n",
      "5\n",
      "6\n",
      "7\n",
      "8\n",
      "9\n",
      "0\n",
      "1\n",
      "2\n",
      "3\n",
      "4\n",
      "5\n",
      "6\n",
      "7\n",
      "8\n",
      "9\n"
     ]
    }
   ],
   "source": [
    "#A while loop can be used anywhere a for loop is used\n",
    "i = 0\n",
    "while i < 10:\n",
    "    print (i)\n",
    "    i = i + 1\n",
    "# This can be done with subtraction, and Multiplication as well\n",
    "i = 0\n",
    "while i < 10:\n",
    "    print(i)\n",
    "    i += 1\n",
    "    "
   ]
  },
  {
   "cell_type": "code",
   "execution_count": 58,
   "metadata": {},
   "outputs": [
    {
     "name": "stdout",
     "output_type": "stream",
     "text": [
      "Do you want to quity\n",
      "Does your elf attack the dragon?y\n",
      "Bad choice, you died\n"
     ]
    }
   ],
   "source": [
    "# There may be several ways for a loop to quit. Using a boolean to trigger the event is a way of handling that.\n",
    "\n",
    "done = False\n",
    "while not done:\n",
    "    quit = input(\"Do you want to quit\")\n",
    "    if quit == \"y\":\n",
    "        done = True\n",
    "        \n",
    "    attack = input (\"Does your elf attack the dragon?\")\n",
    "    if attack == \"y\":\n",
    "        print(\"Bad choice, you died\")\n",
    "        done = True\n",
    "        "
   ]
  },
  {
   "cell_type": "code",
   "execution_count": 78,
   "metadata": {},
   "outputs": [
    {
     "name": "stdout",
     "output_type": "stream",
     "text": [
      "ax^2  +  bx  +  c = 0\n",
      "Value for a: 1\n",
      "Value for b: 2\n",
      "Value for c: 1\n",
      "0.0\n",
      "the roots of the equation are -1.0 and -1.0\n"
     ]
    }
   ],
   "source": [
    "# Program to find the roots of a Qudratic Equation\n",
    "from math import sqrt\n",
    "\n",
    "print(\"ax^2  +  bx  +  c = 0\")\n",
    "a = float(input(\"Value for a: \"))\n",
    "b = float(input(\"Value for b: \"))\n",
    "c = float(input(\"Value for c: \"))\n",
    "\n",
    "p = (b**2)- (4 * a * c)\n",
    "print(p)\n",
    "q = sqrt(p)\n",
    "x1 = (-b +q)/(2*a)\n",
    "x2 = (-b -q)/(2*a)\n",
    "\n",
    "print(\"the roots of the equation are\", x1,\"and\", x2)"
   ]
  },
  {
   "cell_type": "code",
   "execution_count": 104,
   "metadata": {},
   "outputs": [
    {
     "name": "stdout",
     "output_type": "stream",
     "text": [
      "The word is ???\n",
      "what is your guess: foe\n",
      "True\n"
     ]
    }
   ],
   "source": [
    "import random\n",
    "x= 0\n",
    "words = [\"foe\",\"joke\",\"snack\"]\n",
    "\n",
    "#p = int(input(\"Which word would u like to guess: \"))\n",
    "p = random.choice(words)\n",
    "for i in p:\n",
    "    x += 1\n",
    "    \n",
    "print(\"The word is\",\"?\"*x)\n",
    "\n",
    "ans = str(input('what is your guess: '))\n",
    "if ans == p:\n",
    "    print(ans in p)"
   ]
  },
  {
   "cell_type": "code",
   "execution_count": 99,
   "metadata": {},
   "outputs": [],
   "source": [
    "pac = [\"hello\",\"bird\"]\n",
    "a = \"helo\"\n",
    "if a == pac[0]:\n",
    "    print (a)"
   ]
  },
  {
   "cell_type": "code",
   "execution_count": 5,
   "metadata": {},
   "outputs": [],
   "source": [
    "import random\n",
    "lives = 9\n",
    "words = ['lanes', 'tried','blamed','scene','count','cults', 'blogg']\n",
    "secret_word = random.choice(words)\n",
    "clue = list('?????')\n",
    "heart_symbol = u'\\u2764'\n",
    "guessed_word_correctly = False\n",
    "\n",
    "def update_clue(guessed_letter, secret_word, clue):\n",
    "    index\n",
    "    while indes< len(secret_word):\n",
    "        if guessed_letter == secret_word[index]:\n",
    "            clue[index]=guessed_letter\n",
    "        index = index + 1\n",
    "#\n",
    "#\n",
    "#\n",
    "#\n",
    "#\n",
    "#\n",
    "\n"
   ]
  },
  {
   "cell_type": "code",
   "execution_count": 4,
   "metadata": {},
   "outputs": [
    {
     "ename": "IndentationError",
     "evalue": "unindent does not match any outer indentation level (<tokenize>, line 21)",
     "output_type": "error",
     "traceback": [
      "\u001b[1;36m  File \u001b[1;32m\"<tokenize>\"\u001b[1;36m, line \u001b[1;32m21\u001b[0m\n\u001b[1;33m    if guess in secret_word:\u001b[0m\n\u001b[1;37m    ^\u001b[0m\n\u001b[1;31mIndentationError\u001b[0m\u001b[1;31m:\u001b[0m unindent does not match any outer indentation level\n"
     ]
    }
   ],
   "source": [
    "difficulty = input('Choose difficulty(type 1, 2, or 3): \\n 1 Easy \\n 2 Normal \\n 3 hard \\n')\n",
    "difficulty = int(difficulty)\n",
    "\n",
    "if difficulty == 1:\n",
    "    lives = 6\n",
    "elif difficulty == 2:\n",
    "    lives = 9\n",
    "else:\n",
    "    lives = 12\n",
    "\n",
    "\n",
    "\n",
    "while lives > 0:\n",
    "    print(clue)\n",
    "    print('Lives left: ' + heart_symbol * lives)\n",
    "    guess = input ('Guess a letter or the whole word: ')\n",
    "    \n",
    "if guess == secret_word:\n",
    "        guessed_word_correctly = true\n",
    "        break\n",
    "    if guess in secret_word:\n",
    "        update_clue(guess, secret_word,clue)\n",
    "    else:\n",
    "        print('Incorrect. You lose a life')\n",
    "        lives = lives - 1\n",
    "if guessed_word_correctly:\n",
    "    print(\"you won! The secret word was \"+ secret_word)\n",
    "else:\n",
    "    print(\"you lost! The secret word was \"+ secret_word)"
   ]
  },
  {
   "cell_type": "code",
   "execution_count": null,
   "metadata": {},
   "outputs": [],
   "source": []
  },
  {
   "cell_type": "code",
   "execution_count": null,
   "metadata": {},
   "outputs": [],
   "source": []
  }
 ],
 "metadata": {
  "kernelspec": {
   "display_name": "Python 3",
   "language": "python",
   "name": "python3"
  },
  "language_info": {
   "codemirror_mode": {
    "name": "ipython",
    "version": 3
   },
   "file_extension": ".py",
   "mimetype": "text/x-python",
   "name": "python",
   "nbconvert_exporter": "python",
   "pygments_lexer": "ipython3",
   "version": "3.8.5"
  }
 },
 "nbformat": 4,
 "nbformat_minor": 4
}
