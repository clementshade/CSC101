{
 "cells": [
  {
   "cell_type": "markdown",
   "metadata": {},
   "source": [
    "# Project 3"
   ]
  },
  {
   "cell_type": "code",
   "execution_count": null,
   "metadata": {},
   "outputs": [],
   "source": [
    "students = {'a':1,'b':2,'c':3,'d':4,'e':5,'f':6,'g':7,'h':8,'i':9,'j':10,}\n",
    "\n",
    "\n",
    "\n",
    "def score_check():\n",
    "    x = input(\" What is your name?\").lower()\n",
    "\n",
    "    if x in students:\n",
    "        print(x, \"Your score is\",students[x])\n",
    "       # y = students.values()\n",
    "       # print(y)\n",
    "    else:\n",
    "        print(\"I don't know you\")\n",
    "\n",
    "while True:\n",
    "    score_check()\n",
    "    \n",
    "\n"
   ]
  }
 ],
 "metadata": {
  "kernelspec": {
   "display_name": "Python 3",
   "language": "python",
   "name": "python3"
  },
  "language_info": {
   "codemirror_mode": {
    "name": "ipython",
    "version": 3
   },
   "file_extension": ".py",
   "mimetype": "text/x-python",
   "name": "python",
   "nbconvert_exporter": "python",
   "pygments_lexer": "ipython3",
   "version": "3.8.5"
  }
 },
 "nbformat": 4,
 "nbformat_minor": 4
}
