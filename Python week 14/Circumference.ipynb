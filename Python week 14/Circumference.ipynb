{
 "cells": [
  {
   "cell_type": "code",
   "execution_count": 9,
   "metadata": {},
   "outputs": [
    {
     "name": "stdout",
     "output_type": "stream",
     "text": [
      "Welcome to Circumference Calculator\n",
      "What is the value of the radius: 5\n",
      "31.41592653589793\n"
     ]
    }
   ],
   "source": [
    "import math\n",
    "print (\"Welcome to Circumference Calculator\")\n",
    "r = int(input(\"What is the value of the radius: \"))\n",
    "def Cir(r):\n",
    "    C = 2 * math.pi * r\n",
    "    print (C)\n",
    "    return\n",
    "Cir(r)"
   ]
  },
  {
   "cell_type": "code",
   "execution_count": null,
   "metadata": {},
   "outputs": [],
   "source": []
  }
 ],
 "metadata": {
  "kernelspec": {
   "display_name": "Python 3",
   "language": "python",
   "name": "python3"
  },
  "language_info": {
   "codemirror_mode": {
    "name": "ipython",
    "version": 3
   },
   "file_extension": ".py",
   "mimetype": "text/x-python",
   "name": "python",
   "nbconvert_exporter": "python",
   "pygments_lexer": "ipython3",
   "version": "3.8.5"
  }
 },
 "nbformat": 4,
 "nbformat_minor": 4
}
