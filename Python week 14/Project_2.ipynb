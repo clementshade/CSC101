{
 "cells": [
  {
   "cell_type": "markdown",
   "metadata": {},
   "source": [
    "# Project 2"
   ]
  },
  {
   "cell_type": "code",
   "execution_count": 35,
   "metadata": {},
   "outputs": [
    {
     "name": "stdout",
     "output_type": "stream",
     "text": [
      "is 1 present?\n",
      "(y/n)y\n",
      "is 2 present?\n",
      "(y/n)n\n",
      "is 3 present?\n",
      "(y/n)y\n",
      "is 4 present?\n",
      "(y/n)n\n",
      "is 5 present?\n",
      "(y/n)y\n",
      "is 6 present?\n",
      "(y/n)\n",
      "is 7 present?\n",
      "(y/n)n\n",
      "is 8 present?\n",
      "(y/n)y\n",
      "is 9 present?\n",
      "(y/n)n\n",
      "is 10 present?\n",
      "(y/n)y\n",
      "1 is present\n",
      "2 is not present\n",
      "3 is present\n",
      "4 is not present\n",
      "5 is present\n",
      "6 is not present\n",
      "7 is not present\n",
      "8 is present\n",
      "9 is not present\n",
      "10 is present\n"
     ]
    }
   ],
   "source": [
    "students_ID  = [\"1\",\"2\",\"3\",\"4\",\"5\",\"6\",\"7\",\"8\",\"9\",\"10\"]\n",
    "attend =[]\n",
    "x = 0\n",
    "y = 0\n",
    "while x < 10:\n",
    "    print(\"is\",students_ID[x],\"in class?\")\n",
    "    a = (input(\"(y/n)\"))\n",
    "    attend.append(a.lower())\n",
    "    x += 1\n",
    "    \n",
    "for i in students_ID:\n",
    "    if attend[y] == \"y\":\n",
    "        print(students_ID[y],\"is present\")\n",
    "    else:\n",
    "        print(students_ID[y],\"is not present\")\n",
    "    y +=1\n"
   ]
  },
  {
   "cell_type": "code",
   "execution_count": null,
   "metadata": {},
   "outputs": [],
   "source": []
  }
 ],
 "metadata": {
  "kernelspec": {
   "display_name": "Python 3",
   "language": "python",
   "name": "python3"
  },
  "language_info": {
   "codemirror_mode": {
    "name": "ipython",
    "version": 3
   },
   "file_extension": ".py",
   "mimetype": "text/x-python",
   "name": "python",
   "nbconvert_exporter": "python",
   "pygments_lexer": "ipython3",
   "version": "3.8.5"
  }
 },
 "nbformat": 4,
 "nbformat_minor": 4
}
