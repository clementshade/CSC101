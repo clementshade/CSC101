{
 "cells": [
  {
   "cell_type": "markdown",
   "metadata": {},
   "source": [
    "# Project 1"
   ]
  },
  {
   "cell_type": "code",
   "execution_count": 22,
   "metadata": {},
   "outputs": [
    {
     "name": "stdout",
     "output_type": "stream",
     "text": [
      "a1\n",
      "b4\n",
      "c4\n",
      "The roots are -2.0 and -2.0\n"
     ]
    }
   ],
   "source": [
    "import math\n",
    "\n",
    "A = int(input(\"a: \"))\n",
    "B = int(input(\"b: \"))\n",
    "C = int(input(\"c: \"))\n",
    "\n",
    "def quadratic (a,b,c):\n",
    "    N = (b**2) - 4 * a * c\n",
    "    M = -1 * b\n",
    "    O = (math.sqrt(N))\n",
    "    x1 = (M + O)/(2*a)\n",
    "    x2 = (M - O)/(2*a)\n",
    "    print(\"The roots are\", x1 ,\"and\",x2)\n",
    "\n",
    "    return\n",
    "quadratic(A,B,C)\n"
   ]
  },
  {
   "cell_type": "code",
   "execution_count": null,
   "metadata": {},
   "outputs": [],
   "source": []
  }
 ],
 "metadata": {
  "kernelspec": {
   "display_name": "Python 3",
   "language": "python",
   "name": "python3"
  },
  "language_info": {
   "codemirror_mode": {
    "name": "ipython",
    "version": 3
   },
   "file_extension": ".py",
   "mimetype": "text/x-python",
   "name": "python",
   "nbconvert_exporter": "python",
   "pygments_lexer": "ipython3",
   "version": "3.8.5"
  }
 },
 "nbformat": 4,
 "nbformat_minor": 4
}
