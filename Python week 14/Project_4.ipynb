{
 "cells": [
  {
   "cell_type": "markdown",
   "metadata": {},
   "source": [
    "# Project 4"
   ]
  },
  {
   "cell_type": "code",
   "execution_count": 24,
   "metadata": {},
   "outputs": [
    {
     "name": "stdout",
     "output_type": "stream",
     "text": [
      "Password>>> csdf\n",
      "Password>>> computer1234\n",
      "Access Granted\n"
     ]
    }
   ],
   "source": [
    "\n",
    "Pass = \"computer1234\"\n",
    "def password():\n",
    "    access = False\n",
    "    while access == False:\n",
    "        p = input(\"Password>>> \")\n",
    "        if p == Pass:\n",
    "            access = True\n",
    "            print(\"Access Granted\")\n",
    "    return\n",
    "\n",
    "password()"
   ]
  },
  {
   "cell_type": "code",
   "execution_count": null,
   "metadata": {},
   "outputs": [],
   "source": []
  }
 ],
 "metadata": {
  "kernelspec": {
   "display_name": "Python 3",
   "language": "python",
   "name": "python3"
  },
  "language_info": {
   "codemirror_mode": {
    "name": "ipython",
    "version": 3
   },
   "file_extension": ".py",
   "mimetype": "text/x-python",
   "name": "python",
   "nbconvert_exporter": "python",
   "pygments_lexer": "ipython3",
   "version": "3.8.5"
  }
 },
 "nbformat": 4,
 "nbformat_minor": 4
}
